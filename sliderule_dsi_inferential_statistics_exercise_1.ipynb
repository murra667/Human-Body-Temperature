{
 "cells": [
  {
   "cell_type": "markdown",
   "metadata": {},
   "source": [
    "# What is the True Normal Human Body Temperature? \n",
    "\n",
    "#### Background\n",
    "\n",
    "The mean normal body temperature was held to be 37$^{\\circ}$C or 98.6$^{\\circ}$F for more than 120 years since it was first conceptualized and reported by Carl Wunderlich in a famous 1868 book. But, is this value statistically correct?"
   ]
  },
  {
   "cell_type": "markdown",
   "metadata": {},
   "source": [
    "<h3>Exercises</h3>\n",
    "\n",
    "<p>In this exercise, you will analyze a dataset of human body temperatures and employ the concepts of hypothesis testing, confidence intervals, and statistical significance.</p>\n",
    "\n",
    "<p>Answer the following questions <b>in this notebook below and submit to your Github account</b>.</p> \n",
    "\n",
    "<ol>\n",
    "<li>  Is the distribution of body temperatures normal? \n",
    "    <ul>\n",
    "    <li> Although this is not a requirement for CLT to hold (read CLT carefully), it gives us some peace of mind that the population may also be normally distributed if we assume that this sample is representative of the population.\n",
    "    </ul>\n",
    "<li>  Is the sample size large? Are the observations independent?\n",
    "    <ul>\n",
    "    <li> Remember that this is a condition for the CLT, and hence the statistical tests we are using, to apply.\n",
    "    </ul>\n",
    "<li>  Is the true population mean really 98.6 degrees F?\n",
    "    <ul>\n",
    "    <li> Would you use a one-sample or two-sample test? Why?\n",
    "    <li> In this situation, is it appropriate to use the $t$ or $z$ statistic? \n",
    "    <li> Now try using the other test. How is the result be different? Why?\n",
    "    </ul>\n",
    "<li>  Draw a small sample of size 10 from the data and repeat both tests. \n",
    "    <ul>\n",
    "    <li> Which one is the correct one to use? \n",
    "    <li> What do you notice? What does this tell you about the difference in application of the $t$ and $z$ statistic?\n",
    "    </ul>\n",
    "<li>  At what temperature should we consider someone's temperature to be \"abnormal\"?\n",
    "    <ul>\n",
    "    <li> Start by computing the margin of error and confidence interval.\n",
    "    </ul>\n",
    "<li>  Is there a significant difference between males and females in normal temperature?\n",
    "    <ul>\n",
    "    <li> What test did you use and why?\n",
    "    <li> Write a story with your conclusion in the context of the original problem.\n",
    "    </ul>\n",
    "</ol>\n",
    "\n",
    "You can include written notes in notebook cells using Markdown: \n",
    "   - In the control panel at the top, choose Cell > Cell Type > Markdown\n",
    "   - Markdown syntax: http://nestacms.com/docs/creating-content/markdown-cheat-sheet\n",
    "\n",
    "#### Resources\n",
    "\n",
    "+ Information and data sources: http://www.amstat.org/publications/jse/datasets/normtemp.txt, http://www.amstat.org/publications/jse/jse_data_archive.htm\n",
    "+ Markdown syntax: http://nestacms.com/docs/creating-content/markdown-cheat-sheet\n",
    "\n",
    "****"
   ]
  },
  {
   "cell_type": "code",
   "execution_count": 2,
   "metadata": {
    "collapsed": true,
    "scrolled": true
   },
   "outputs": [],
   "source": [
    "import pandas as pd\n",
    "from scipy import stats\n",
    "import numpy as np\n",
    "\n",
    "df = pd.read_csv('data/human_body_temperature.csv')\n"
   ]
  },
  {
   "cell_type": "markdown",
   "metadata": {},
   "source": [
    "1) The sample distribution was plotted to see if it is normal, which it appears to be"
   ]
  },
  {
   "cell_type": "code",
   "execution_count": 10,
   "metadata": {},
   "outputs": [
    {
     "data": {
      "image/png": "[encoded data removed]",
      "text/plain": [
       "<matplotlib.figure.Figure at 0x263c75bcbe0>"
      ]
     },
     "metadata": {},
     "output_type": "display_data"
    }
   ],
   "source": [
    "import statsmodels.api as sm\n",
    "import pylab\n",
    "# plot the sample data using a qq plot\n",
    "sm.qqplot(df['temperature'])\n",
    "pylab.show()"
   ]
  },
  {
   "cell_type": "code",
   "execution_count": 3,
   "metadata": {},
   "outputs": [
    {
     "data": {
      "image/png": "[encoded data removed]",
      "text/plain": [
       "<matplotlib.figure.Figure at 0x263c507c128>"
      ]
     },
     "metadata": {},
     "output_type": "display_data"
    }
   ],
   "source": [
    "\n",
    "import matplotlib.pyplot as plt\n",
    "# plot the temperature column containing the sample distribution\n",
    "_ = plt.hist(df['temperature'], bins = 100, normed=True, histtype = 'step')\n",
    "plt.show()\n"
   ]
  },
  {
   "cell_type": "markdown",
   "metadata": {},
   "source": [
    "2) The sample size is large, as the CLT requires a sample size of 30 or larger. The observations are independent, under the assumption that they each represent different people. "
   ]
  },
  {
   "cell_type": "markdown",
   "metadata": {},
   "source": [
    "3) A two-sided test would be most appropriate to determine whether or not 98.6 is the true mean as independent observations can be observed above or below the mean value of the true population mean of 98.6. A z-test is appropriate in this instance, as the sample size is greater than 30. "
   ]
  },
  {
   "cell_type": "markdown",
   "metadata": {},
   "source": [
    "z-test assumes that we know the population standard deviation"
   ]
  },
  {
   "cell_type": "markdown",
   "metadata": {},
   "source": [
    "Run two-sided z-test"
   ]
  },
  {
   "cell_type": "code",
   "execution_count": 14,
   "metadata": {},
   "outputs": [
    {
     "name": "stdout",
     "output_type": "stream",
     "text": [
      "p-value = 0.999999978238\n"
     ]
    }
   ],
   "source": [
    "# compute mean of sample population\n",
    "mu = np.mean(df['temperature'])\n",
    "# compute standard deviation of sample population \n",
    "std = np.std(df['temperature'])\n",
    "# calculate standard error of sample population\n",
    "SE = std / np.sqrt(len(df['temperature']))\n",
    "# calculate Z- score using sample population and\n",
    "# population mean\n",
    "Z = (98.6 - mu) / SE\n",
    "# calculate the p-value from the z value\n",
    "p = stats.norm.cdf(Z)\n",
    "print (\"p-value =\", p)"
   ]
  },
  {
   "cell_type": "markdown",
   "metadata": {},
   "source": [
    "Run two-sided t-test"
   ]
  },
  {
   "cell_type": "code",
   "execution_count": 54,
   "metadata": {},
   "outputs": [
    {
     "data": {
      "text/plain": [
       "Ttest_1sampResult(statistic=-5.4548232923645195, pvalue=2.4106320415561276e-07)"
      ]
     },
     "execution_count": 54,
     "metadata": {},
     "output_type": "execute_result"
    }
   ],
   "source": [
    "\n",
    "# use temperature column as input for t-test\n",
    "temperature = (df['temperature'])\n",
    "\n",
    "#This is a two-sided t test for the null hypothesis that the \n",
    "#expected value (mean) of a sample of independent observations a is equal to the given population mean, popmean.\n",
    "\n",
    "t = stats.ttest_1samp(temperature, 98.6)\n",
    "t"
   ]
  },
  {
   "cell_type": "markdown",
   "metadata": {},
   "source": [
    "Using a t-test on the sample of 130 produces a very low p-value. A t-test assumes a smaller sample size, and therefore the chance for more variance in the sample distribution. "
   ]
  },
  {
   "cell_type": "markdown",
   "metadata": {
    "scrolled": true
   },
   "source": [
    "\n",
    "The null hypothesis assumes that there is no difference between the sample mean and the assumed true mean of 98.6, in which case\n",
    "98.6 could be the true mean.\n",
    "The alternative hypothesis assumes that there is a difference between the sample mean and the assumed true mean of 98.6, \n",
    "in which case 98.6 can not be the true mean of the population\n",
    "a two sample z test failed to reject the null hypothesis, with a p-value of .68, meaning that it may be safe to accept the 98.6\n",
    "value as the true body temperature mean for now\n",
    "\n",
    "Null Hypothesis: there is no difference between the sample mean and the assumed true mean of 98.6"
   ]
  },
  {
   "cell_type": "markdown",
   "metadata": {},
   "source": [
    "Alternative Hypothesis: there is a difference between the sample mean and the assumed true mean of 98.6"
   ]
  },
  {
   "cell_type": "markdown",
   "metadata": {},
   "source": [
    "A two-sided z test failed to reject the null hypothesis, with a p-value of .99, meaning that it may be safe to accept the 98.6 value as the true body temperature mean for now"
   ]
  },
  {
   "cell_type": "markdown",
   "metadata": {},
   "source": [
    "4) Draw a small sample of size 10 from the data and repeat both tests\n",
    " "
   ]
  },
  {
   "cell_type": "code",
   "execution_count": 12,
   "metadata": {
    "collapsed": true
   },
   "outputs": [],
   "source": [
    "# draw a random sample of 10 from temperature column\n",
    "temperature_small = df['temperature'].sample(10)\n",
    "# calculate sample mean\n",
    "small_mu = np.mean(temperature_small)\n",
    "# calculate sample standard deviation\n",
    "small_std = np.std(temperature_small)"
   ]
  },
  {
   "cell_type": "code",
   "execution_count": 13,
   "metadata": {},
   "outputs": [
    {
     "name": "stdout",
     "output_type": "stream",
     "text": [
      "p-value = 0.99808208589\n"
     ]
    }
   ],
   "source": [
    "# calculate standard error of sample population\n",
    "SE = small_std / np.sqrt(len(temperature_small))\n",
    "# calculate Z- score using sample population and\n",
    "# population mean\n",
    "Z = (98.6 - small_mu) / SE\n",
    "# calculate the p-value from the z value\n",
    "p = stats.norm.cdf(Z)\n",
    "print (\"p-value =\", p)"
   ]
  },
  {
   "cell_type": "markdown",
   "metadata": {},
   "source": [
    "Two sided t-test with smaller sample"
   ]
  },
  {
   "cell_type": "code",
   "execution_count": 57,
   "metadata": {},
   "outputs": [
    {
     "data": {
      "text/plain": [
       "Ttest_1sampResult(statistic=-2.0114351989644752, pvalue=0.07515380693453684)"
      ]
     },
     "execution_count": 57,
     "metadata": {},
     "output_type": "execute_result"
    }
   ],
   "source": [
    "\n",
    "#This is a two-sided test for the null hypothesis that the \n",
    "#expected value (mean) of a sample of independent observations a is equal to the given population mean, popmean.\n",
    "t = stats.ttest_1samp(temperature_small, 98.6)\n",
    "t"
   ]
  },
  {
   "cell_type": "markdown",
   "metadata": {},
   "source": [
    "5) At what temperature should we consider someone's temperature to be \"abnormal\"?"
   ]
  },
  {
   "cell_type": "code",
   "execution_count": 22,
   "metadata": {},
   "outputs": [
    {
     "data": {
      "text/plain": [
       "(96.81775582674824, 99.680705711713316)"
      ]
     },
     "execution_count": 22,
     "metadata": {},
     "output_type": "execute_result"
    }
   ],
   "source": [
    "# calculate confidence interval \n",
    "conf_int = stats.norm.interval(0.95, loc=mu, scale=std)\n",
    "conf_int"
   ]
  },
  {
   "cell_type": "markdown",
   "metadata": {},
   "source": [
    "As indicated by the confidence interval, 95% of the time we would consider somebody's temperature abnormal below 96.8 and above 99.7 as abnormal"
   ]
  },
  {
   "cell_type": "markdown",
   "metadata": {},
   "source": [
    "6) Is there a significant difference between males and females in normal temperature?"
   ]
  },
  {
   "cell_type": "code",
   "execution_count": 8,
   "metadata": {
    "collapsed": true
   },
   "outputs": [],
   "source": [
    "# define function to simulate two-sampled z-test of different means\n",
    "def twoSampZ(X1, X2, mudiff, sd1, sd2, n1, n2):\n",
    "    from numpy import sqrt, abs, round\n",
    "    from scipy import stats\n",
    "    pooledSE = sqrt(sd1**2/n1 + sd2**2/n2)\n",
    "    z = ((X1 - X2) - mudiff)/pooledSE\n",
    "    pval = 2*(1 - stats.norm.cdf(abs(z)))\n",
    "    return z, pval"
   ]
  },
  {
   "cell_type": "markdown",
   "metadata": {},
   "source": [
    "Extract statistics from data to input into two-sample z difference of means"
   ]
  },
  {
   "cell_type": "code",
   "execution_count": 6,
   "metadata": {
    "collapsed": true
   },
   "outputs": [],
   "source": [
    "mu_male = round(np.mean(df[df['gender'] == \"M\"].temperature), 2)\n",
    "mu_female = round(np.mean(df[df['gender'] == \"F\"].temperature), 2)\n",
    "std_male = round(np.std(df[df['gender'] == \"M\"].temperature), 2)\n",
    "std_female = round(np.std(df[df['gender'] == \"F\"].temperature), 2)\n",
    "male = df[df['gender'] == \"M\"].temperature.count()\n",
    "female = df[df['gender'] == \"F\"].temperature.count()\n"
   ]
  },
  {
   "cell_type": "markdown",
   "metadata": {},
   "source": [
    "Run two-sample z difference of means"
   ]
  },
  {
   "cell_type": "code",
   "execution_count": 10,
   "metadata": {},
   "outputs": [
    {
     "name": "stdout",
     "output_type": "stream",
     "text": [
      "p-value: 0.0208421504581\n"
     ]
    }
   ],
   "source": [
    "# sample mean 1\n",
    "X1 = mu_male\n",
    "# sample mean 2\n",
    "X2 = mu_female\n",
    "# mu difference of the true male and female population is not available in this case\n",
    "mudiff = 0\n",
    "# sample std 1\n",
    "sd1 = std_male\n",
    "# sample std 2\n",
    "sd2 = std_female\n",
    "# sample population size 1 \n",
    "n1 = male\n",
    "# sample population size 2\n",
    "n2 = female\n",
    "# run function \n",
    "z, p = twoSampZ(X1, X2, mudiff, sd1, sd2, n1, n2)\n",
    "print (\"p-value:\", p)"
   ]
  },
  {
   "cell_type": "markdown",
   "metadata": {
    "collapsed": true
   },
   "source": [
    "A two-sample z test difference of means is the most appropriate test for this problem. Both male and female populations from the sample mean are greater than 30. In addition, we want to test for a significant difference between the true male and female population temperatures. If the population is truly normal, a two-sample z test for difference of means that the null hypothesis - that there is no difference between the means of the two populations - should be rejected. The alternative hypothesis - that there is a significant difference between the population means - can be accepted under a .05 alpha levelj, as the p-value given for the test is .02.  "
   ]
  },
  {
   "cell_type": "markdown",
   "metadata": {},
   "source": [
    "\n",
    "no standard deviation? does this apply when deciding t test over z test?\n"
   ]
  },
  {
   "cell_type": "code",
   "execution_count": null,
   "metadata": {
    "collapsed": true
   },
   "outputs": [],
   "source": []
  }
 ],
 "metadata": {
  "kernelspec": {
   "display_name": "Python 3",
   "language": "python",
   "name": "python3"
  },
  "language_info": {
   "codemirror_mode": {
    "name": "ipython",
    "version": 3
   },
   "file_extension": ".py",
   "mimetype": "text/x-python",
   "name": "python",
   "nbconvert_exporter": "python",
   "pygments_lexer": "ipython3",
   "version": "3.6.3"
  }
 },
 "nbformat": 4,
 "nbformat_minor": 1
}
